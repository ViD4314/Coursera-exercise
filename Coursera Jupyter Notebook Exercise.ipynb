{
 "cells": [
  {
   "cell_type": "markdown",
   "id": "03b99dd1",
   "metadata": {},
   "source": [
    "# My Jupyter Notebook on IBM Watson Studio"
   ]
  },
  {
   "cell_type": "markdown",
   "id": "ed4cbe94",
   "metadata": {},
   "source": [
    "**Vicenso Drushku**\n",
    "\n",
    "My desired occupation is that of a data scientist."
   ]
  },
  {
   "cell_type": "markdown",
   "id": "1e3b85c4",
   "metadata": {},
   "source": [
    "*While working in my previous company I came across many tasks that required knowledge on how to process data which had me working alongside many data analysts(both senior and junior) who kindly explained to me how to complete them. After getting some hands on experince myself I realised how important data is, not just in the companies but also in our everyday lives. Everything nowadays relies on data to achieve best performance/results and the reason why I want to become a data scientist is because I wish to be part of this revolution in our industry.*"
   ]
  },
  {
   "cell_type": "markdown",
   "id": "a7f43e3f",
   "metadata": {},
   "source": [
    "### The code below returns the sum of two numbers"
   ]
  },
  {
   "cell_type": "code",
   "execution_count": 3,
   "id": "0620aae9",
   "metadata": {},
   "outputs": [
    {
     "data": {
      "text/plain": [
       "12"
      ]
     },
     "execution_count": 3,
     "metadata": {},
     "output_type": "execute_result"
    }
   ],
   "source": [
    "def adding(n1,n2):\n",
    "    return n1+n2\n",
    "adding(5,7)"
   ]
  },
  {
   "cell_type": "markdown",
   "id": "ab982080",
   "metadata": {},
   "source": [
    "* Fruits\n",
    "    + Apple\n",
    "    + Banana\n",
    "    + Peach\n",
    "    + Pear\n",
    "\n",
    "This [Hyperlink](https://www.youtube.com/watch?v=qGf6QFB_rEI) will send you to my favourite song and I also added this ~~strikethrough text~~ for fun. \n",
    "\n",
    "Here is an image: ![My image](https://miro.medium.com/max/365/0*POjH5vv_7t8s8loG)"
   ]
  },
  {
   "cell_type": "code",
   "execution_count": null,
   "id": "85028eba",
   "metadata": {},
   "outputs": [],
   "source": []
  }
 ],
 "metadata": {
  "kernelspec": {
   "display_name": "Python 3 (ipykernel)",
   "language": "python",
   "name": "python3"
  },
  "language_info": {
   "codemirror_mode": {
    "name": "ipython",
    "version": 3
   },
   "file_extension": ".py",
   "mimetype": "text/x-python",
   "name": "python",
   "nbconvert_exporter": "python",
   "pygments_lexer": "ipython3",
   "version": "3.9.12"
  }
 },
 "nbformat": 4,
 "nbformat_minor": 5
}
